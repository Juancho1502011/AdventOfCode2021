{
 "cells": [
  {
   "cell_type": "markdown",
   "metadata": {},
   "source": [
    "# Primera parte\n",
    "Contar los puntos más bajos del mapa"
   ]
  },
  {
   "cell_type": "code",
   "execution_count": 209,
   "metadata": {},
   "outputs": [
    {
     "name": "stdout",
     "output_type": "stream",
     "text": [
      "516\n"
     ]
    }
   ],
   "source": [
    "def countLowPoints(arr):\n",
    "    acum=0\n",
    "    pos=[]\n",
    "    for i in range( len(arr)):\n",
    "        for j in range (len(arr[i])):\n",
    "            if(i==0 and j==0):\n",
    "                if(arr[i][j]<arr[i+1][j] and arr[i][j]<arr[i][j+1]):\n",
    "                    acum+=arr[i][j]+1\n",
    "                    pos.append([[i,j]])\n",
    "            elif(i==len(arr)-1 and j==0):\n",
    "                if(arr[i][j]<arr[i-1][j] and arr[i][j]<arr[i][j+1]):\n",
    "                    acum+=arr[i][j]+1\n",
    "                    pos.append([[i,j]])\n",
    "            elif(i==len(arr)-1 and j==len(arr[i])-1):\n",
    "                if(arr[i][j]<arr[i-1][j] and arr[i][j]<arr[i][j-1]):\n",
    "                    acum+=arr[i][j]+1\n",
    "                    pos.append([[i,j]])\n",
    "            elif(i==0 and j==len(arr[i])-1):\n",
    "                if(arr[i][j]<arr[i+1][j] and arr[i][j]<arr[i][j-1]):\n",
    "                    acum+=arr[i][j]+1\n",
    "                    pos.append([[i,j]])\n",
    "            elif(i==0):\n",
    "                if(arr[i][j]<arr[i][j-1] and arr[i][j]<arr[i][j+1] and arr[i][j]<arr[i+1][j]):\n",
    "                    acum+=arr[i][j]+1\n",
    "                    pos.append([[i,j]])\n",
    "            elif(i==len(arr)-1):\n",
    "                if(arr[i][j]<arr[i][j-1] and arr[i][j]<arr[i][j+1] and arr[i][j]<arr[i-1][j]):\n",
    "                    acum+=arr[i][j]+1\n",
    "                    pos.append([[i,j]])\n",
    "            elif(j==0):\n",
    "                if(arr[i][j]<arr[i-1][0] and arr[i][j]<arr[i][j+1] and arr[i][j]<arr[i+1][j]):\n",
    "                    acum+=arr[i][j]+1\n",
    "                    pos.append([[i,j]])\n",
    "            elif(j==len(arr[i])-1):\n",
    "                if(arr[i][j]<arr[i-1][j] and arr[i][j]<arr[i+1][j] and arr[i][j]<arr[i][j-1]):\n",
    "                    acum+=arr[i][j]+1\n",
    "                    pos.append([[i,j]])\n",
    "            else:\n",
    "                if(arr[i][j]<arr[i-1][j] and arr[i][j]<arr[i+1][j] and arr[i][j]<arr[i][j-1] and arr[i][j]<arr[i][j+1]):\n",
    "                    acum+=arr[i][j]+1\n",
    "                    pos.append([[i,j]])\n",
    "    return acum,pos\n",
    "with open(\"input.txt\", \"r\") as tf:\n",
    "    start=[]    \n",
    "    for line in tf.read().split('\\n'):\n",
    "        start.append((list(map(int,line))))\n",
    "    lowPoints=countLowPoints(start)\n",
    "    print(lowPoints[0])"
   ]
  },
  {
   "cell_type": "markdown",
   "metadata": {},
   "source": [
    "# Segunda parte\n",
    "Encontrar las cuencas más grandes de los puntos bajos determinados anteriormente"
   ]
  },
  {
   "cell_type": "code",
   "execution_count": 210,
   "metadata": {},
   "outputs": [
    {
     "name": "stdout",
     "output_type": "stream",
     "text": [
      "1023660\n"
     ]
    }
   ],
   "source": [
    "def getbasins(pos,arr):\n",
    "    sizes=[]\n",
    "    for element in pos:\n",
    "        size=1\n",
    "        for coor in element:\n",
    "            if(coor[0]!=0 and arr[coor[0]-1][coor[1]]!=9 and [coor[0]-1,coor[1]] not in element):\n",
    "                element.append([coor[0]-1,coor[1]])\n",
    "            if(coor[1]!=len(arr[0])-1 and arr[coor[0]][coor[1]+1]!=9 and [coor[0],coor[1]+1] not in element):\n",
    "                element.append([coor[0],coor[1]+1])\n",
    "            if(coor[0]!=len(arr)-1 and arr[coor[0]+1][coor[1]]!=9 and [coor[0]+1,coor[1]] not in element):\n",
    "                element.append([coor[0]+1,coor[1]])\n",
    "            if(coor[1]!=0 and arr[coor[0]][coor[1]-1]!=9 and [coor[0],coor[1]-1] not in element):\n",
    "                element.append([coor[0],coor[1]-1])\n",
    "        sizes.append(len(element))\n",
    "    return sizes\n",
    "sizes = getbasins(lowPoints[1],start)\n",
    "acum=1\n",
    "for i in range(3):\n",
    "    acum*=sizes.pop(sizes.index(max(sizes)))\n",
    "print(acum)"
   ]
  }
 ],
 "metadata": {
  "interpreter": {
   "hash": "e01cb87d1d85c98332b703e00075dc31e64e247940378e5175a1237affb28724"
  },
  "kernelspec": {
   "display_name": "Python 3.9.7 64-bit ('base': conda)",
   "language": "python",
   "name": "python3"
  },
  "language_info": {
   "codemirror_mode": {
    "name": "ipython",
    "version": 3
   },
   "file_extension": ".py",
   "mimetype": "text/x-python",
   "name": "python",
   "nbconvert_exporter": "python",
   "pygments_lexer": "ipython3",
   "version": "3.9.7"
  },
  "orig_nbformat": 4
 },
 "nbformat": 4,
 "nbformat_minor": 2
}
