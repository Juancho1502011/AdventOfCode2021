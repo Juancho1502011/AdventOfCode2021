{
 "cells": [
  {
   "cell_type": "markdown",
   "metadata": {},
   "source": [
    "# Primera parte\n",
    "Determinar el valor a alinear más rápido con un valor constante de combustible"
   ]
  },
  {
   "cell_type": "code",
   "execution_count": 1,
   "metadata": {},
   "outputs": [
    {
     "name": "stdout",
     "output_type": "stream",
     "text": [
      "348996\n"
     ]
    }
   ],
   "source": [
    "def getvalues(arr):\n",
    "    count = []\n",
    "    for element in arr:\n",
    "        count2 = 0\n",
    "        for num in arr:\n",
    "            count2+=(abs(num-element))\n",
    "        count.append(count2)\n",
    "    return min(count)\n",
    "with open(\"input.txt\", \"r\") as tf:\n",
    "    start=[]    \n",
    "    for line in tf.read().split(','):\n",
    "        start.append(int(line))\n",
    "    print(getvalues(start))"
   ]
  },
  {
   "cell_type": "markdown",
   "metadata": {},
   "source": [
    "# Segunda parte\n",
    "Determinar el valor a alinear más rápido con un valor de combustible incremental"
   ]
  },
  {
   "cell_type": "code",
   "execution_count": 2,
   "metadata": {},
   "outputs": [
    {
     "name": "stdout",
     "output_type": "stream",
     "text": [
      "98231647\n"
     ]
    }
   ],
   "source": [
    "def getvalues(arr):\n",
    "    count = []\n",
    "    for element in range(max(arr)):\n",
    "        count2 = 0\n",
    "        for num in arr:\n",
    "            count2+=sumatoria(abs(num-element))\n",
    "        count.append(count2)\n",
    "    return min(count)\n",
    "\n",
    "def sumatoria(num):\n",
    "    acum =0\n",
    "    for element in range(num+1):\n",
    "        acum+=element\n",
    "    return acum\n",
    "with open(\"input.txt\", \"r\") as tf:\n",
    "    start=[]    \n",
    "    for line in tf.read().split(','):\n",
    "        start.append(int(line))\n",
    "    print(getvalues(start))"
   ]
  }
 ],
 "metadata": {
  "interpreter": {
   "hash": "e01cb87d1d85c98332b703e00075dc31e64e247940378e5175a1237affb28724"
  },
  "kernelspec": {
   "display_name": "Python 3.9.7 64-bit ('base': conda)",
   "language": "python",
   "name": "python3"
  },
  "language_info": {
   "codemirror_mode": {
    "name": "ipython",
    "version": 3
   },
   "file_extension": ".py",
   "mimetype": "text/x-python",
   "name": "python",
   "nbconvert_exporter": "python",
   "pygments_lexer": "ipython3",
   "version": "3.9.7"
  },
  "orig_nbformat": 4
 },
 "nbformat": 4,
 "nbformat_minor": 2
}
