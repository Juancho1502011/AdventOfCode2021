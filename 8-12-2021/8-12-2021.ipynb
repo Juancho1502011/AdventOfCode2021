{
 "cells": [
  {
   "cell_type": "markdown",
   "metadata": {},
   "source": [
    "# Primera parte\n",
    "Función para contar la cantidad de números 2, 4, 3, 7"
   ]
  },
  {
   "cell_type": "code",
   "execution_count": 117,
   "metadata": {},
   "outputs": [
    {
     "name": "stdout",
     "output_type": "stream",
     "text": [
      "381\n"
     ]
    }
   ],
   "source": [
    "def getvalues(arr):\n",
    "    count2 = 0\n",
    "    for element in arr:\n",
    "        for num in element:\n",
    "            if(len(num)==2 or len(num)==4 or len(num)==3 or len(num)==7 ):\n",
    "                count2+=1\n",
    "    return count2\n",
    "with open(\"input.txt\", \"r\") as tf:\n",
    "    start=[]    \n",
    "    for line in tf.read().split('\\n'):\n",
    "        start.append(line.split(' | ')[1].split(' '))\n",
    "    print(getvalues(start))"
   ]
  },
  {
   "cell_type": "markdown",
   "metadata": {},
   "source": [
    "# Segunda parte\n",
    "Función para transformar todos los números y sumar"
   ]
  },
  {
   "cell_type": "code",
   "execution_count": 118,
   "metadata": {},
   "outputs": [
    {
     "name": "stdout",
     "output_type": "stream",
     "text": [
      "1023686\n"
     ]
    }
   ],
   "source": [
    "def getpositions(arr):\n",
    "    pos= []\n",
    "    for element in arr:\n",
    "        aux={}\n",
    "        for num in element:\n",
    "            if(len(num)==7):\n",
    "                aux[8]=list(num)\n",
    "            elif(len(num)==2):\n",
    "                aux[1]=list(num)\n",
    "            elif(len(num)==4):\n",
    "                aux[4]=list(num)\n",
    "            elif(len(num)==3):\n",
    "                aux[7]=list(num)\n",
    "        pos.append(aux)\n",
    "    return pos\n",
    "def transform(arr):\n",
    "    res = [] \n",
    "    pos = getpositions(arr)\n",
    "    for j in range(len(arr)):\n",
    "        aux=[]\n",
    "        for i in range(10,14):\n",
    "            if(len(arr[j][i])==2):\n",
    "                aux.append('1')\n",
    "            elif(len(arr[j][i])==4):\n",
    "                aux.append('4')\n",
    "            elif(len(arr[j][i])==3):\n",
    "                aux.append('7')\n",
    "            elif(len(arr[j][i])==7):\n",
    "                aux.append('8')\n",
    "            elif(len(arr[j][i])==5):\n",
    "                if(pos[j][1][0] in list(arr[j][i]) and pos[j][1][1] in list(arr[j][i])):\n",
    "                    aux.append('3')\n",
    "                else:\n",
    "                    arr2 = []\n",
    "                    for element in pos[j][4]:\n",
    "                        if(element not in pos[j][7]):\n",
    "                            arr2.append(element)\n",
    "                    if(arr2[0] in list(arr[j][i]) and arr2[1] in list(arr[j][i])):\n",
    "                        aux.append('5')\n",
    "                    else:\n",
    "                        aux.append('2')\n",
    "            else:\n",
    "                if(pos[j][4][0] in list(arr[j][i]) and pos[j][4][1] in list(arr[j][i]) and pos[j][4][2] in list(arr[j][i]) and pos[j][4][3] in list(arr[j][i])):\n",
    "                    aux.append('9')\n",
    "                else:\n",
    "                    arr2 = []\n",
    "                    for element in pos[j][4]:\n",
    "                        if(element not in pos[j][7]):\n",
    "                            arr2.append(element)\n",
    "                    if(arr2[0] in list(arr[j][i]) and arr2[1] in list(arr[j][i])):\n",
    "                        aux.append('6')\n",
    "                    else:\n",
    "                        aux.append('0')\n",
    "        res.append((int)(''.join(aux)))\n",
    "    return res\n",
    "\n",
    "\n",
    "\n",
    "with open(\"input.txt\", \"r\") as tf:\n",
    "    start=[]    \n",
    "    for line in tf.read().split('\\n'):\n",
    "        start.append(line.replace(' | ',' ').split(' '))\n",
    "    print(sum(transform(start)))"
   ]
  }
 ],
 "metadata": {
  "interpreter": {
   "hash": "e01cb87d1d85c98332b703e00075dc31e64e247940378e5175a1237affb28724"
  },
  "kernelspec": {
   "display_name": "Python 3.9.7 64-bit ('base': conda)",
   "language": "python",
   "name": "python3"
  },
  "language_info": {
   "codemirror_mode": {
    "name": "ipython",
    "version": 3
   },
   "file_extension": ".py",
   "mimetype": "text/x-python",
   "name": "python",
   "nbconvert_exporter": "python",
   "pygments_lexer": "ipython3",
   "version": "3.9.7"
  },
  "orig_nbformat": 4
 },
 "nbformat": 4,
 "nbformat_minor": 2
}
