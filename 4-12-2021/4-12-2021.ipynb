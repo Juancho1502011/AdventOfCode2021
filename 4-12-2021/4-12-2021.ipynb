{
 "cells": [
  {
   "cell_type": "markdown",
   "metadata": {},
   "source": [
    "# Primera parte\n",
    "Definir la primer tabla ganadora"
   ]
  },
  {
   "cell_type": "code",
   "execution_count": 97,
   "metadata": {},
   "outputs": [
    {
     "name": "stdout",
     "output_type": "stream",
     "text": [
      "tabla ganadora:  ['26', '89', '27', '47', '91', '15', '9', '18', '62', '28', '31', '96', '42', '81', '86', '11', '52', '20', '93', '38', '83', '64', '39', '1', '60']  número:  42 resultado final:  32844\n"
     ]
    }
   ],
   "source": [
    "def getWinner(arr, numbers):\n",
    "    pos =[[] for y in range(len(arr))] \n",
    "    for number in numbers:\n",
    "        for i in range (len(arr)):\n",
    "            if(number in arr[i]):\n",
    "                pos[i].append(arr[i].index(number))\n",
    "        for element in pos:\n",
    "            for i in range (5):\n",
    "                if( i in element and i+5 in element and i+10 in element and i+15 in element and i+20 in element):\n",
    "                    return arr[pos.index(element)],element,number\n",
    "                if( i*5 in element and i*5+1 in element and i*5+2 in element and i*5+3 in element and i*5+4 in element):\n",
    "                    return arr[pos.index(element)],element,number\n",
    "                \n",
    "    return pos\n",
    "\n",
    "\n",
    "with open(\"input.txt\", \"r\") as tf:\n",
    "    numbers=[]    \n",
    "    board=[]\n",
    "    lines = tf.read().split('\\n\\n')\n",
    "    numbers=lines[0].split(',')\n",
    "    for i in range(len(lines)-1):\n",
    "        board.append(lines[i+1].split())\n",
    "    resultados = getWinner(board,numbers)\n",
    "    acum=0;\n",
    "    for i in range (len(resultados[0])):\n",
    "        if(i not in resultados[1]):\n",
    "            acum+=int(resultados[0][i])\n",
    "    print('tabla ganadora: ',resultados[0],' número: ',resultados[2],'resultado final: ',acum*int(resultados[2]))\n"
   ]
  },
  {
   "cell_type": "markdown",
   "metadata": {},
   "source": [
    "# Segundo intento\n",
    "Definir la última tabla en ganar"
   ]
  },
  {
   "cell_type": "code",
   "execution_count": 98,
   "metadata": {},
   "outputs": [
    {
     "name": "stdout",
     "output_type": "stream",
     "text": [
      "(['85', '64', '44', '39', '57', '90', '30', '15', '35', '54', '78', '89', '55', '99', '12', '80', '96', '20', '50', '45', '56', '10', '71', '59', '17'], [8, 14, 22, 16, 12, 19, 1, 3, 10, 9, 7, 18, 11, 23, 21, 5, 15, 0, 4, 17], '20')\n",
      "tabla perdedora:  ['85', '64', '44', '39', '57', '90', '30', '15', '35', '54', '78', '89', '55', '99', '12', '80', '96', '20', '50', '45', '56', '10', '71', '59', '17']  número:  20 resultado final:  4920\n"
     ]
    }
   ],
   "source": [
    "def getLooser(arr, numbers):\n",
    "    pos =[[] for y in range(len(arr))] \n",
    "    for number in numbers:\n",
    "        for i in range (len(arr)):\n",
    "            if(number in arr[i]):\n",
    "                pos[i].append(arr[i].index(number))\n",
    "        for element in pos:\n",
    "            for i in range (5):\n",
    "                if( i in element and i+5 in element and i+10 in element and i+15 in element and i+20 in element):\n",
    "                    arr.remove(arr[pos.index(element)])\n",
    "                    pos.remove(element)\n",
    "                    break\n",
    "                elif( i*5 in element and i*5+1 in element and i*5+2 in element and i*5+3 in element and i*5+4 in element):\n",
    "                    arr.remove(arr[pos.index(element)])\n",
    "                    pos.remove(element)\n",
    "                    break\n",
    "            if(len(pos)==1):\n",
    "                lastone= arr[0]\n",
    "            if(len(pos)==0):\n",
    "                return lastone,element,number  \n",
    "    return pos\n",
    "resultados = getLooser(board,numbers)\n",
    "acum=0;\n",
    "print(resultados)\n",
    "for i in range (len(resultados[0])):\n",
    "    if(i not in resultados[1]):\n",
    "        acum+=int(resultados[0][i])\n",
    "print('tabla perdedora: ',resultados[0],' número: ',resultados[2],'resultado final: ',acum*int(resultados[2]))\n"
   ]
  }
 ],
 "metadata": {
  "interpreter": {
   "hash": "e01cb87d1d85c98332b703e00075dc31e64e247940378e5175a1237affb28724"
  },
  "kernelspec": {
   "display_name": "Python 3.9.7 64-bit ('base': conda)",
   "language": "python",
   "name": "python3"
  },
  "language_info": {
   "codemirror_mode": {
    "name": "ipython",
    "version": 3
   },
   "file_extension": ".py",
   "mimetype": "text/x-python",
   "name": "python",
   "nbconvert_exporter": "python",
   "pygments_lexer": "ipython3",
   "version": "3.9.7"
  },
  "orig_nbformat": 4
 },
 "nbformat": 4,
 "nbformat_minor": 2
}
