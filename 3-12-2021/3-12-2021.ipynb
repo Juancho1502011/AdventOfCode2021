{
 "cells": [
  {
   "cell_type": "markdown",
   "metadata": {},
   "source": [
    "# Primera parte\n",
    "Definir los digitos comunes en cada bit"
   ]
  },
  {
   "cell_type": "code",
   "execution_count": 168,
   "metadata": {},
   "outputs": [
    {
     "name": "stdout",
     "output_type": "stream",
     "text": [
      "010111010011\n",
      "101000101100\n",
      "3882564\n"
     ]
    }
   ],
   "source": [
    "def countcommon (arr):\n",
    "    gamma=\"\"\n",
    "    epsilon=\"\"\n",
    "    for i in range(len(arr[0])):\n",
    "        digit0=0\n",
    "        digit1=0\n",
    "        for element in arr:\n",
    "            if(element[i]=='0'):\n",
    "                digit0+=1\n",
    "            else:\n",
    "                digit1+=1\n",
    "        if(digit0>digit1):\n",
    "            gamma=gamma+'0'\n",
    "            epsilon=epsilon+'1'\n",
    "        else:\n",
    "            gamma=gamma+'1'\n",
    "            epsilon=epsilon+'0'\n",
    "    return [gamma,epsilon]\n",
    "\n",
    "with open(\"input.txt\", \"r\") as tf:\n",
    "    arr=[]    \n",
    "    lines = tf.read().split('\\n')\n",
    "    for line in lines: \n",
    "        arr.append(list(line))\n",
    "    print(countcommon(arr)[0])\n",
    "    print(countcommon(arr)[1])\n",
    "    print(int(countcommon(arr)[0],2)*int(countcommon(arr)[1],2))"
   ]
  },
  {
   "cell_type": "markdown",
   "metadata": {},
   "source": [
    "# Segunda parte\n",
    "Filtrar el arreglo por mas comunes y menos comunes"
   ]
  },
  {
   "cell_type": "code",
   "execution_count": 169,
   "metadata": {},
   "outputs": [
    {
     "name": "stdout",
     "output_type": "stream",
     "text": [
      "['0', '1', '0', '1', '0', '0', '0', '1', '1', '0', '0', '1']\n",
      "['1', '0', '1', '0', '0', '0', '1', '0', '0', '0', '1', '0']\n",
      "Multiply:  3385170\n"
     ]
    }
   ],
   "source": [
    "def filter(arr,indice):\n",
    "    for i in range(len(arr[0])):\n",
    "        arr2 = []\n",
    "        number = list(countcommon(arr)[indice]);\n",
    "        for element in arr:\n",
    "            if(element[i]==number[i]):\n",
    "                arr2.append(element)\n",
    "        arr=arr2\n",
    "        if(len(arr)<=1):\n",
    "            return arr\n",
    "print(filter(arr,0)[0])\n",
    "print(filter(arr,1)[0])\n",
    "print(\"Multiply: \",int(\"\".join(filter(arr,0)[0]),2)*int(\"\".join(filter(arr,1)[0]),2))"
   ]
  },
  {
   "cell_type": "markdown",
   "metadata": {},
   "source": []
  }
 ],
 "metadata": {
  "interpreter": {
   "hash": "e01cb87d1d85c98332b703e00075dc31e64e247940378e5175a1237affb28724"
  },
  "kernelspec": {
   "display_name": "Python 3.9.7 64-bit ('base': conda)",
   "language": "python",
   "name": "python3"
  },
  "language_info": {
   "codemirror_mode": {
    "name": "ipython",
    "version": 3
   },
   "file_extension": ".py",
   "mimetype": "text/x-python",
   "name": "python",
   "nbconvert_exporter": "python",
   "pygments_lexer": "ipython3",
   "version": "3.9.7"
  },
  "orig_nbformat": 4
 },
 "nbformat": 4,
 "nbformat_minor": 2
}
