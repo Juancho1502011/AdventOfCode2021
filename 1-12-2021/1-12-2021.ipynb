{
 "cells": [
  {
   "cell_type": "markdown",
   "metadata": {},
   "source": [
    "Primer intento\n",
    "Código para identificar el número de aumentos"
   ]
  },
  {
   "cell_type": "code",
   "execution_count": 80,
   "metadata": {},
   "outputs": [
    {
     "name": "stdout",
     "output_type": "stream",
     "text": [
      "1791\n"
     ]
    }
   ],
   "source": [
    "def getIncreases(lines):\n",
    "    aumento = 0\n",
    "    for i in range(len(lines)-1):\n",
    "        if(int(lines[i+1])-int(lines[i])>0):\n",
    "            aumento=aumento+1\n",
    "    return aumento\n",
    "with open(\"input.txt\", \"r\") as tf:\n",
    "    lines = tf.read().split('\\n')\n",
    "    print(getIncreases(lines))"
   ]
  },
  {
   "cell_type": "markdown",
   "metadata": {},
   "source": [
    "Segundo intento\n",
    "Código para formar las ventanas de 3 elementos"
   ]
  },
  {
   "cell_type": "code",
   "execution_count": 81,
   "metadata": {},
   "outputs": [
    {
     "name": "stdout",
     "output_type": "stream",
     "text": [
      "1822\n"
     ]
    }
   ],
   "source": [
    "    nuevoArreglo = []\n",
    "    for i in range(len(lines)-2):\n",
    "        nuevoArreglo.append(int(lines[i])+int(lines[i+1])+int(lines[i+2]))\n",
    "    print(getIncreases(nuevoArreglo))"
   ]
  },
  {
   "cell_type": "markdown",
   "metadata": {},
   "source": []
  }
 ],
 "metadata": {
  "interpreter": {
   "hash": "e01cb87d1d85c98332b703e00075dc31e64e247940378e5175a1237affb28724"
  },
  "kernelspec": {
   "display_name": "Python 3.9.7 64-bit ('base': conda)",
   "language": "python",
   "name": "python3"
  },
  "language_info": {
   "codemirror_mode": {
    "name": "ipython",
    "version": 3
   },
   "file_extension": ".py",
   "mimetype": "text/x-python",
   "name": "python",
   "nbconvert_exporter": "python",
   "pygments_lexer": "ipython3",
   "version": "3.9.7"
  },
  "orig_nbformat": 4
 },
 "nbformat": 4,
 "nbformat_minor": 2
}
