{
 "cells": [
  {
   "cell_type": "markdown",
   "metadata": {},
   "source": [
    "# Primera parte\n",
    "Conteo de los peces en 18 días"
   ]
  },
  {
   "cell_type": "code",
   "execution_count": 125,
   "metadata": {},
   "outputs": [
    {
     "name": "stdout",
     "output_type": "stream",
     "text": [
      "1512\n"
     ]
    }
   ],
   "source": [
    "def getFishes(arr):\n",
    "    for i in range(18):\n",
    "        for j in range(len(arr)):\n",
    "            if(arr[j]==0):\n",
    "                arr[j]=6\n",
    "                arr.append(8)\n",
    "            else:\n",
    "                arr[j]= arr[j]-1\n",
    "    return len(arr)\n",
    "with open(\"input.txt\", \"r\") as tf:\n",
    "    start=[]    \n",
    "    for line in tf.read().split(','):\n",
    "        start.append(int(line))\n",
    "    print(getFishes(start))"
   ]
  },
  {
   "cell_type": "markdown",
   "metadata": {},
   "source": [
    "# Segunda parte\n",
    "Conteo de los peces en 256 días."
   ]
  },
  {
   "cell_type": "code",
   "execution_count": 126,
   "metadata": {},
   "outputs": [
    {
     "name": "stdout",
     "output_type": "stream",
     "text": [
      "1574445493136\n"
     ]
    }
   ],
   "source": [
    "import numpy as np\n",
    "def getFishes(arr):\n",
    "    for i in range(256):\n",
    "        aux = arr.pop(0)\n",
    "        arr[6]+=aux\n",
    "        arr.append(aux)\n",
    "    acum=0\n",
    "    for element in arr:\n",
    "        acum+=element\n",
    "    return acum\n",
    "with open(\"input.txt\", \"r\") as tf:\n",
    "    start=[0,0,0,0,0,0,0,0,0] \n",
    "    for line in tf.read().split(','):\n",
    "        start[int(line)]+=1\n",
    "    days=[]\n",
    "    print(getFishes(start))\n"
   ]
  }
 ],
 "metadata": {
  "interpreter": {
   "hash": "e01cb87d1d85c98332b703e00075dc31e64e247940378e5175a1237affb28724"
  },
  "kernelspec": {
   "display_name": "Python 3.9.7 64-bit ('base': conda)",
   "language": "python",
   "name": "python3"
  },
  "language_info": {
   "codemirror_mode": {
    "name": "ipython",
    "version": 3
   },
   "file_extension": ".py",
   "mimetype": "text/x-python",
   "name": "python",
   "nbconvert_exporter": "python",
   "pygments_lexer": "ipython3",
   "version": "3.9.7"
  },
  "orig_nbformat": 4
 },
 "nbformat": 4,
 "nbformat_minor": 2
}
