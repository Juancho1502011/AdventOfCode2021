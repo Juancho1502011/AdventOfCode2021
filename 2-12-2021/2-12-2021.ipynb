{
 "cells": [
  {
   "cell_type": "markdown",
   "metadata": {},
   "source": [
    "Primera parte\n",
    "Función que recorre el arreglo y acumula el movimiento en el eje x y en la profundidad"
   ]
  },
  {
   "cell_type": "code",
   "execution_count": 18,
   "metadata": {},
   "outputs": [
    {
     "name": "stdout",
     "output_type": "stream",
     "text": [
      "x: 2162 depth: 1051 = 2272262\n"
     ]
    }
   ],
   "source": [
    "def getCoordenates(arr):\n",
    "    x=0\n",
    "    depth=0\n",
    "    for element in arr:\n",
    "        if(element[0]=='forward'):\n",
    "            x=x+int(element[1])\n",
    "        elif(element[0]=='down'):\n",
    "            depth=depth+int(element[1])\n",
    "        elif(element[0]=='up'):\n",
    "            depth=depth-int(element[1])\n",
    "    print(\"x: \"+str(x)+\" depth: \"+str(depth)+\" = \"+str(x*depth))\n",
    "arr= []\n",
    "with open(\"input.txt\", \"r\") as tf:\n",
    "    lines = tf.read().split('\\n')\n",
    "    for line in lines: \n",
    "        arr.append(line.split(' '))\n",
    "    getCoordenates(arr)"
   ]
  },
  {
   "cell_type": "markdown",
   "metadata": {},
   "source": [
    "Segunda parte\n",
    "Función que recorre el arreglo acumulando el movimiento en el eje x y en la profundidad considerando el aim"
   ]
  },
  {
   "cell_type": "code",
   "execution_count": 19,
   "metadata": {},
   "outputs": [
    {
     "name": "stdout",
     "output_type": "stream",
     "text": [
      "x: 2162 depth: 987457 = 2134882034\n"
     ]
    }
   ],
   "source": [
    "def getCoordenates(arr):\n",
    "    x=0\n",
    "    depth=0\n",
    "    aim=0\n",
    "    for element in arr:\n",
    "        if(element[0]=='forward'):\n",
    "            x=x+int(element[1])\n",
    "            depth=depth+int(element[1])*aim\n",
    "        elif(element[0]=='down'):\n",
    "            aim=aim+int(element[1])\n",
    "        elif(element[0]=='up'):\n",
    "            aim=aim-int(element[1])\n",
    "    print(\"x: \"+str(x)+\" depth: \"+str(depth)+\" = \"+str(x*depth))\n",
    "getCoordenates(arr)"
   ]
  }
 ],
 "metadata": {
  "interpreter": {
   "hash": "e01cb87d1d85c98332b703e00075dc31e64e247940378e5175a1237affb28724"
  },
  "kernelspec": {
   "display_name": "Python 3.9.7 64-bit ('base': conda)",
   "language": "python",
   "name": "python3"
  },
  "language_info": {
   "codemirror_mode": {
    "name": "ipython",
    "version": 3
   },
   "file_extension": ".py",
   "mimetype": "text/x-python",
   "name": "python",
   "nbconvert_exporter": "python",
   "pygments_lexer": "ipython3",
   "version": "3.9.7"
  },
  "orig_nbformat": 4
 },
 "nbformat": 4,
 "nbformat_minor": 2
}
