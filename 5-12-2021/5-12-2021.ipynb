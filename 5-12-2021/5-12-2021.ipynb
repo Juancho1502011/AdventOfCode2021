{
 "cells": [
  {
   "cell_type": "markdown",
   "metadata": {},
   "source": [
    "# Primera parte\n",
    "Determinar el número de puntos que solapan lineas horizontales y verticales"
   ]
  },
  {
   "cell_type": "code",
   "execution_count": 39,
   "metadata": {},
   "outputs": [
    {
     "name": "stdout",
     "output_type": "stream",
     "text": [
      "6841\n"
     ]
    }
   ],
   "source": [
    "def points(arr):\n",
    "    count = 0\n",
    "    pos = []\n",
    "    for i in range(1000):\n",
    "        list=[]\n",
    "        for j in range(1000):\n",
    "            list.append(0)\n",
    "        pos.append(list)\n",
    "    for element in arr:\n",
    "        if(element[0]==element[2]):\n",
    "            coords=[int(element[1]),int(element[3])]\n",
    "            for i in range (min(coords),max(coords)+1):\n",
    "                pos[i][int(element[0])]+=1\n",
    "        elif(element[1]==element[3]):\n",
    "            coords=[int(element[0]),int(element[2])]\n",
    "            for i in range (min(coords),max(coords)+1):\n",
    "                pos[int(element[1])][i]+=1\n",
    "    for element in pos:\n",
    "        for cell in element:\n",
    "            if(cell>=2):\n",
    "                count+=1\n",
    "    return count\n",
    "\n",
    "with open(\"input.txt\", \"r\") as tf:\n",
    "    numbers=[]    \n",
    "    for line in tf.read().split('\\n'):\n",
    "        numbers.append(line.replace(' -> ',',').split(','))\n",
    "    print(points(numbers))"
   ]
  },
  {
   "cell_type": "markdown",
   "metadata": {},
   "source": [
    "# Segunda parte\n",
    "Definir todos los puntos que se solapan más de 2 veces"
   ]
  },
  {
   "cell_type": "code",
   "execution_count": 40,
   "metadata": {},
   "outputs": [
    {
     "name": "stdout",
     "output_type": "stream",
     "text": [
      "19258\n"
     ]
    }
   ],
   "source": [
    "def allpoints(arr):\n",
    "    count = 0\n",
    "    pos = []\n",
    "\n",
    "    for i in range(1000):\n",
    "        list=[]\n",
    "        for j in range(1000):\n",
    "            list.append(0)\n",
    "        pos.append(list)\n",
    "    for element in arr:\n",
    "        if(element[0]==element[2]):\n",
    "            coords=[int(element[1]),int(element[3])]\n",
    "            for i in range (min(coords),max(coords)+1):\n",
    "                pos[i][int(element[0])]+=1\n",
    "        elif(element[1]==element[3]):\n",
    "            coords=[int(element[0]),int(element[2])]\n",
    "            for i in range (min(coords),max(coords)+1):\n",
    "                pos[int(element[1])][i]+=1\n",
    "        else:\n",
    "            difx=int(element[0])-int(element[2])\n",
    "            dify=int(element[1])-int(element[3])\n",
    "            for i in range (abs(difx)+1):\n",
    "                pos[int(element[1])-i*(int(dify/abs(dify)))][int(element[0])-i*(int(difx/abs(difx)))]+=1\n",
    "    for element in pos:\n",
    "        for cell in element:\n",
    "            if(cell>=2):\n",
    "                count+=1\n",
    "    return count\n",
    "\n",
    "with open(\"input.txt\", \"r\") as tf:\n",
    "    numbers=[]    \n",
    "    for line in tf.read().split('\\n'):\n",
    "        numbers.append(line.replace(' -> ',',').split(','))\n",
    "    print(allpoints(numbers))"
   ]
  }
 ],
 "metadata": {
  "interpreter": {
   "hash": "e01cb87d1d85c98332b703e00075dc31e64e247940378e5175a1237affb28724"
  },
  "kernelspec": {
   "display_name": "Python 3.9.7 64-bit ('base': conda)",
   "language": "python",
   "name": "python3"
  },
  "language_info": {
   "codemirror_mode": {
    "name": "ipython",
    "version": 3
   },
   "file_extension": ".py",
   "mimetype": "text/x-python",
   "name": "python",
   "nbconvert_exporter": "python",
   "pygments_lexer": "ipython3",
   "version": "3.9.7"
  },
  "orig_nbformat": 4
 },
 "nbformat": 4,
 "nbformat_minor": 2
}
